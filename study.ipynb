{
 "cells": [
  {
   "cell_type": "markdown",
   "metadata": {},
   "source": [
    "# Analysis of Financing Mechanism Feasibility\n",
    "\n",
    "In a previous article I discussed the space of financing mechanisms that are being used by protocols and their DAO's today in order to conduct their funding rounds.\n",
    "\n",
    "Conducting these funding rounds are important for these DAOs because their native token cannot not be considered as a cash-asset (to be used to fund proposals and operations) because they are illiquid. As a consequence, they should not be used to fund a defined space of services they require in order for them to continue to grow. Choosing an appropriate financing mechanism, in order to exchange illiquid assets for liquid, cash-like assets, can thus help these protocols to achieve their financing goals.\n",
    "\n",
    "In this article I am going to be doing a feasibility analysis on some of those financing mechanisms I covered in my previous article, namely [PIPEs](https://www.investopedia.com/terms/p/pipe.asp), Auctions, and [Bonding Curves](https://medium.com/@simondlr/tokens-2-0-curved-token-bonding-in-curation-markets-1764a2e0bee5) and compare them via some selected protocols and their governance tokens.\n",
    "\n",
    "It should be noted that in this analysis the buyer's need are also taken into consideration. Buyers would engage in a funding round if they feel like they can gain an excess in value from their investment at a later date. This can come from selling these tokens for a profit at a later date or from simply participating in a DAO that suits their interests.\n",
    "\n",
    "To compare these protocols' funding rounds, I measure their success based on some parameters which reflect the goals these protocols would like to achieve for their respective funding rounds, mainly to:\n",
    "\n",
    "* maximise (or achieve) funding \n",
    "* ensure there is a fair/ideal distribution of a project's token\n",
    "* (in the case of an initial coin offering) achieve optimal price discovery for their token"
   ]
  },
  {
   "cell_type": "markdown",
   "metadata": {},
   "source": [
    "## Revenue\n",
    "Arguably, the primary aim of a funding round for a protocol/project is to acquire funds for their operations. For DAOs, this funding round usally involves the retailing of their governance tokens for more liquid assets like ETH or USDC.\n",
    "\n",
    "Obviously the higher revenue for these token sales the more successful the funding round was:"
   ]
  },
  {
   "cell_type": "markdown",
   "metadata": {},
   "source": [
    "### Lido\n",
    "On launch, Lido's token allocation for 1 billion minted LDO tokens was as follows:\n",
    "* DAO Treasury: 36.32%\n",
    "* Investors: 22.18%\n",
    "* Initial developers: 20%\n",
    "* Founders and future employees: 15%\n",
    "* Validators and withdrawal key signers: 6.5%\n",
    "\n",
    "[source](https://blog.lido.fi/introducing-ldo/)\n",
    "\n",
    "Their initial financing round was held on 14/12/2020. The 22.18% of tokens offered to investors created [\\$2 million in revenue for Lido](https://messari.io/asset/lido-dao/profile/launch-and-initial-token-distribution). It can therefore be categorised as a Private Investment Public Equity (PIPE) token sale held between Lido and a select few investors.\n",
    "\n",
    "Unfortunately, the spot price for this sale has not been documented. However, the math checks out to be ~\\$0.009 LDO/USD as the average token price for the sale.\n",
    "\n",
    "A lock-up period was set for these investors so that they may not sell these tokens until a year has passed.\n",
    "\n",
    "Since this was a large allocation of tokens distributed to a 3rd party, and since the lock-up deadline was made public knowledge, one can expect there to be some kind of selling pressure around the time of the token lock-up period deadline.\n",
    "\n",
    "Prior to this deadline, 0.4% of LDO tokens were distributed to the public as an airdrop to \"early stakers\" of ETH (Lido, 2021) which equates to 4 million LDO. It may be fair to say that price discovery would be more likely to be achieved after the deadline when more tokens are likely to be in circulation.\n",
    "\n",
    "We can then analyse the Time Weighted Average Price of Lido after this period to guage how the market values this token."
   ]
  },
  {
   "cell_type": "code",
   "execution_count": 21,
   "metadata": {},
   "outputs": [],
   "source": [
    "# sets up the pynb environment\n",
    "import os\n",
    "import sys\n",
    "\n",
    "module_path = os.path.abspath(os.path.join(\"./libs/\"))\n",
    "if module_path not in sys.path:\n",
    "    sys.path.append(module_path)"
   ]
  },
  {
   "cell_type": "code",
   "execution_count": 23,
   "metadata": {},
   "outputs": [
    {
     "data": {
      "text/plain": [
       "3.1027785714285714"
      ]
     },
     "execution_count": 23,
     "metadata": {},
     "output_type": "execute_result"
    }
   ],
   "source": [
    "from libs.daos.http.price_data.gate_io import get_historical_token_spot_prices\n",
    "from libs.daos.twap import calculate_twap_interday\n",
    "\n",
    "ldo_usdt_seven_days_post_lockup = get_historical_token_spot_prices(\n",
    "    \"LDO_USDT\", 1639454400, 1641873600\n",
    ")\n",
    "ldo_usdt_seven_day_twap = calculate_twap_interday(ldo_usdt_seven_days_post_lockup, 28)\n",
    "ldo_usdt_seven_day_twap\n"
   ]
  },
  {
   "cell_type": "markdown",
   "metadata": {},
   "source": [
    "At the time of writing this article, the twap price 28 days post-lockup was ~\\$3.10."
   ]
  },
  {
   "cell_type": "markdown",
   "metadata": {},
   "source": [
    "#### Radicle\n",
    "On launch, Radicle's token allocation for 100 million RAD, [according Radicle's official blog](https://radicle.blog/introducing-rad.html) is as follows:\n",
    "* DAO Treasury (4 years vesting): 50%\n",
    "* Early Supporters (1-year lock-up): 20%\n",
    "* Team (1-year lock-up, 4 years vesting from join date): 19%\n",
    "* Radicle Foundation (1-year lock-up): 5%\n",
    "* Balancer Liquidity Bootstrapping Pool (Public token sale): 3.75%\n",
    "* Seeders Program (Partners) (1-year lock-up): 2%\n",
    "* Reserves: 0.25%\n",
    "\n",
    "Of that 20% of locked tokens to be allocatied to \"Early Supporters\" only 8 million RAD (8% of total supply) was sold for a combined cost of \\$12 million at \\$1.50 RAD/USD.\n",
    "\n",
    "Also, of the 3.75% that was to be distributed via [Balancer's Liquidity Bootstrapping Pool](https://balancer.gitbook.io/balancer/guides/smart-pool-templates-gui/liquidity-bootstrapping-pool) (LBP) only 1,875,000 RAD was sold to the public (1.875% of total supply), the rest being redistributed via a UNI/USDC pair after a follow-up [governance proposal](https://gov.radicle.network/#/proposals/radicle/4) was passed. This LBP financing round generated \\$24.77 million in USDC as it ran for two days starting from 25/02/2021 at an average price of \\$15.40 USD (Messari, 2021).\n",
    "\n",
    "One thing to note here is that the public funding round was able to sell 50% of its target, whilst the private funding round was only able to sell 40% of its target and only able generate ~52% of the public funding round's outcome.\n",
    "\n",
    "I believe this to be a really amazing achievement for Radicle, and also a very interesting outcome for them as well. Based on the revenue generated, it looks like the communnity had a lot of faith in this project.\n",
    "\n",
    "After the lockup period for the Early Supporters, I calculated a twenty eight-day TWAP for RAD as well:"
   ]
  },
  {
   "cell_type": "code",
   "execution_count": null,
   "metadata": {},
   "outputs": [],
   "source": [
    "from libs.daos.http.price_data.covalent import get_historical_token_spot_prices\n",
    "from libs.daos.twap import calculate_twap_interday\n",
    "\n",
    "rad_usd_post_lockup = get_historical_token_spot_prices(\n",
    "    \"0x31c8eacbffdd875c74b94b077895bd78cf1e64a3\", 1645070400, 1647489600\n",
    ")\n",
    "rad_usd_twenty_eight_twap = calculate_twap_interday(rad_usd_post_lockup, 28)\n",
    "rad_usd_twenty_eight_twap"
   ]
  },
  {
   "cell_type": "markdown",
   "metadata": {},
   "source": [
    "At the time of writing this article, the twap price 28 days post-lockup was ~\\$5.05."
   ]
  },
  {
   "cell_type": "markdown",
   "metadata": {},
   "source": [
    "#### Gnosis\n",
    "\n",
    "On launch, Gnosis allocated 10 million GNO tokens to be distributed to interested investors in a public token launch.\n",
    "\n",
    "Unlike the previous two protocols, Gnosis did things quite differently in terms of the manner in which financing mechanism they employed as well as the terms of allocation.\n",
    "\n",
    "A public Dutch Auction was choses for Gnosis' initial funding round, where the terms for the deadline was when either \\$12.5 million USD was raised or 9 million GNO is sold. The remaining 10% (1 million GNO) was meant to be distributed to the team over a set vesting period (Gnosis Blog, 2017).\n",
    "\n",
    "The Auction was a huge success. [A total of 418,777 GNO was sold](https://media.consensys.net/the-gnosis-token-auction-9c2f59d2387) for the target \\$12.5 million USD at a rate of \\$29.84 USD per GNO. The auction took place on April 24th 2017 at 1PM EST and was over in 12 minutes.\n",
    "\n",
    "The resulting allocation of tokens is as detailed [according to Messari](https://messari.io/asset/gnosis/profile/supply-schedule):\n",
    "\n",
    "* Gnosis Vault: 8,495,410\n",
    "* Initial team bonuses: 500,000 (75% vesting over 4-years)\n",
    "* Token Sale: 418,777\n",
    "* ConsenSys: 400,000\n",
    "* Future team bonuses and supplier payments: 185,813\n",
    "\n",
    "Nothing is known about a lock or vesting period for GNO tokens for the listed entities which participated in this initial distirbution. Nevertheless, the TWAP price from on the earliest exchanges GNO was listed on (Kraken) is as follows:"
   ]
  },
  {
   "cell_type": "code",
   "execution_count": 13,
   "metadata": {},
   "outputs": [
    {
     "data": {
      "text/plain": [
       "164.17411476644853"
      ]
     },
     "execution_count": 13,
     "metadata": {},
     "output_type": "execute_result"
    }
   ],
   "source": [
    "from libs.daos.local.kraken import get_historical_token_spot_prices\n",
    "from libs.daos.twap import calculate_twap_interday\n",
    "\n",
    "gno_usd_twenty_eight_days_post_auction = get_historical_token_spot_prices(\n",
    "    \"./libs/daos/local/data/GNOUSD.csv\", 1493697600, 1496116800\n",
    ")\n",
    "gno_usd_twenty_eight_day_twap = calculate_twap_interday(gno_usd_twenty_eight_days_post_auction.to_dict(\"records\"), 13907)\n",
    "gno_usd_twenty_eight_day_twap"
   ]
  },
  {
   "cell_type": "markdown",
   "metadata": {},
   "source": [
    "At the time of writing this article, the twap price 28 days after the auction was ~\\$164.17. The highest in this study."
   ]
  },
  {
   "cell_type": "markdown",
   "metadata": {},
   "source": [
    "#### Tokemak\n",
    "\n",
    "The token distribution of Tokemak's 100 million TOKE supply, according to their [blog post](https://medium.com/tokemak/tokenomics-4b3857badc73), is as follows:\n",
    "\n",
    "* Reward Emissions (30%) 30,000,000\n",
    "* Cycle Zero’s **DeGenesis** Event and CoRE (Collateralization of Reactors Event) (5%) 5,000,000\n",
    "* DAO Reserve (9%) 9,000,000\n",
    "* Contributors (16.5%) 16,500,000\n",
    "* Team (14%) 14,000,000\n",
    "* Investors (17%) 17,000,000\n",
    "* DAOs & Market Makers (8.5%) 8,500,000"
   ]
  },
  {
   "cell_type": "markdown",
   "metadata": {},
   "source": [
    "Tokemak organised a public token sale via their [DeGenesis platform](https://medium.com/tokemak/tokemak-the-degenesis-939495d9e2ff). This token sale was essentially a bonding curve solution for financing.\n",
    "\n",
    "The token sale was a success as Tokemak themselves put it, selling ~4,570,383.91 TOKE and generating a combined ETH + USDC revenue of \\$36,563,071.30 USD as a result. Price determination happened organically according to the [terms of the sale](https://medium.com/tokemak/tokemak-the-degenesis-939495d9e2ff). Essentially, due to the performance of the sale being >\\$24 millon USD in revenue, price per token is settled at \\$8 TOKE/USD.\n",
    "\n",
    "A day following the conclusion to the DeGenesis, contributors had the option to deposit their TOKE into a Sushiswap or Uniswap liquidity pool, this is also the date where we can get our first pricing observations to calculate the TWAP:"
   ]
  },
  {
   "cell_type": "code",
   "execution_count": null,
   "metadata": {},
   "outputs": [],
   "source": [
    "from libs.daos.http.price_data.sushiswap import get_historical_token_spot_prices\n",
    "from libs.daos.twap import calculate_twap_interday\n",
    "\n",
    "toke_usd_post_degenesis = get_historical_token_spot_prices(\n",
    "    \"0x2e9d63788249371f1DFC918a52f8d799F4a38C94\", 1627963200, 1630641600\n",
    ")\n",
    "toke_usd_twenty_eight_twap = calculate_twap_interday(toke_usd_post_degenesis, 28)\n",
    "toke_usd_twenty_eight_twap"
   ]
  },
  {
   "cell_type": "markdown",
   "metadata": {},
   "source": [
    "In other words, the average price of TOKE 28 days after if being listed was ~\\$30.10 USD. Well above the settled price for the bonding curve/DeGenesis token sale, a 276% percent increase in value."
   ]
  },
  {
   "cell_type": "markdown",
   "metadata": {},
   "source": [
    "### Token holder retention\n",
    "\n",
    "If a community is satistied with their investment from the respective token launches, then we can expect strong token holder retention.\n",
    "\n",
    "Otherwise, the token launch just looks like a \"Pump n' Dump\" scheme, whether intentional or not.\n",
    "\n",
    "To compare each listed project's token holder retention, I created a Dune dashboard that generates a graph of the sum of token holders at a given time, along with the change in the number of token holders, for each listed project:"
   ]
  },
  {
   "cell_type": "markdown",
   "metadata": {},
   "source": [
    "[See the dashboard here](https://dune.com/takeabreath/dao-financing)"
   ]
  },
  {
   "cell_type": "markdown",
   "metadata": {},
   "source": [
    "Radicle and Lido's data starts a year after their respective token launches, since this was the minimum lock-up period for the private funding rounds each project conducted.\n",
    "\n",
    "It's especially interesting seeing Radicle's sharp increase in token holders after this lockup period. Having also looked at the data prior to this lock-up expiry, there wasn't this much of a change in tokenholders even during the launch.\n",
    "\n",
    "Tokemak and Gnosis did not have lock-up agreements, they both conducted pure public funding rounds. Yet still, they enjoyed healthy, net positive, growth in tokenholders after their respective funding rounds.\n",
    "\n",
    "One common thing to note about all these projects is that the utility they provide is more or less unique in the space. In other words, there isn't much competition for any of these projects in the respective problem spaces they tackle."
   ]
  },
  {
   "cell_type": "markdown",
   "metadata": {},
   "source": [
    "### Token Distribution\n",
    "\n",
    "A distribution analysis is conducted to compare how tokens are distirbuted post-token sale.\n",
    "\n",
    "If it shows that for some mechanisms for financing that the distribution of tokens is highly concentrated with very few tokenholders some time after the (initial) distribution of tokens, then we can say that this aim of the protocol/project (if it is indeed an aim).\n",
    "\n",
    "Similar to the previous analysis on token holder retention, a Dune dashboard was contstructed to measure and compare this metric:"
   ]
  },
  {
   "cell_type": "markdown",
   "metadata": {},
   "source": [
    "[See the dashboard here](https://dune.com/takeabreath/token-distributions)"
   ]
  },
  {
   "cell_type": "markdown",
   "metadata": {},
   "source": [
    "It is a bit combersome, as of writing this article, to visualize these queries due to the amount of entries that were created as a result.\n",
    "\n",
    "However, if these queries were to be visualized you would find that tokens are concentrated with very few token holders.\n",
    "\n",
    "A more stringent analysis need to be done to properly identify the treasury, custodial and Liquidity Pool wallet addresses and filter them out, however. As of writing, this was only done for Gnosis."
   ]
  },
  {
   "cell_type": "markdown",
   "metadata": {},
   "source": [
    "#### Price Discovery\n",
    "A DAO which has undergone a successful token launch would ideally like for **a suitable price for their token to be discovered at any time after the token sale**. This allows them to reach their funding target without sacrificing too much governance rights.\n",
    "\n",
    "In this study we compare the strength of a token's trend post-funding round (and in some cases, post-lockup period) by its Relative Strength, and stability by its Volatility, over time to guage whether or not a DAO was able to sustain the value of their token after the token distribution event.\n",
    "\n",
    "Investing based on relative strength is based on the [principle](https://www.investopedia.com/terms/r/relativestrength.asp#:~:text=Understanding%20Relative%20Strength) that when the price is high/rising buyers will buy the asset in order to sell the asset at an even higher price. Meanwhile, volatility measures how likely a price of an asset differs from some reference (often the mean of the historical price of an asset for some period of time). We use Standard Deviation (std_dev) to measure volatility.\n",
    "\n",
    "One last thing to note about about our measure of Relative Strength, the Relative Strength Index (RSI): an observation over 70 is usually a signal to sell as it is deemed overbought, whilst an observation below 30 is usually a signal to buy. This is important to keep in mind as we guage the effectiveness of the funding round and how traders react to it some period after it has ended.\n",
    "\n",
    "We take a look at these metrics for each project and compare them:"
   ]
  },
  {
   "cell_type": "code",
   "execution_count": 17,
   "metadata": {},
   "outputs": [
    {
     "name": "stdout",
     "output_type": "stream",
     "text": [
      "49.790699638708446\n"
     ]
    },
    {
     "data": {
      "text/plain": [
       "0.23391520464627497"
      ]
     },
     "execution_count": 17,
     "metadata": {},
     "output_type": "execute_result"
    }
   ],
   "source": [
    "# Lido\n",
    "import pandas as pd\n",
    "import pandas_ta as ta\n",
    "\n",
    "from libs.daos.http.price_data.gate_io import get_historical_token_spot_prices\n",
    "\n",
    "PriceDiscoveryStratergy = ta.Strategy(\n",
    "    name=\"Price Discovery Stratergies\",\n",
    "    description=\"This stratergy applies RSI_7 and STD_DEV_7\",\n",
    "    ta=[{\"kind\": \"rsi\", \"length\": 7}, {\"kind\": \"stdev\", \"length\": 7}],\n",
    ")\n",
    "\n",
    "\n",
    "def apply_strategy_to_df(\n",
    "    strategy: ta.Strategy, df: pd.DataFrame, should_format_timestamp: bool = True\n",
    "):\n",
    "    try:\n",
    "        df.set_index(\n",
    "            pd.to_datetime(df[\"timestamp\"], unit=\"s\")\n",
    "            if should_format_timestamp\n",
    "            else df[\"timestamp\"],\n",
    "            inplace=True,\n",
    "        )\n",
    "        df.drop(\"timestamp\", axis=1, inplace=True)\n",
    "    except KeyError:\n",
    "        pass\n",
    "    df.sort_index(inplace=True)\n",
    "\n",
    "    df.ta.strategy(strategy)\n",
    "\n",
    "\n",
    "ldo_usdt_twenty_eight_days_post_lockup = get_historical_token_spot_prices(\n",
    "    \"LDO_USDT\", 1639454400, 1641873600\n",
    ")\n",
    "ldo_usdt_twenty_eight_days_post_lockup_df = pd.DataFrame(\n",
    "    ldo_usdt_twenty_eight_days_post_lockup,\n",
    ")\n",
    "\n",
    "apply_strategy_to_df(PriceDiscoveryStratergy, ldo_usdt_twenty_eight_days_post_lockup_df)\n",
    "\n",
    "print(ldo_usdt_twenty_eight_days_post_lockup_df[\"RSI_7\"].mean())\n",
    "ldo_usdt_twenty_eight_days_post_lockup_df[\"STDEV_7\"].mean()\n"
   ]
  },
  {
   "cell_type": "markdown",
   "metadata": {},
   "source": [
    "As of writing this article, the average RSI of `length=7` is 49.79 and the average standard deviation of the same length is 0.234."
   ]
  },
  {
   "cell_type": "code",
   "execution_count": null,
   "metadata": {},
   "outputs": [],
   "source": [
    "# Radicle\n",
    "from libs.daos.http.price_data.covalent import get_historical_token_spot_prices\n",
    "\n",
    "rad_usd_twenty_eight_days_post_lockup = get_historical_token_spot_prices(\n",
    "    \"0x31c8eacbffdd875c74b94b077895bd78cf1e64a3\", 1645070400, 1647230400\n",
    ")\n",
    "rad_usd_twenty_eight_days_post_lockup_df = pd.DataFrame(\n",
    "    rad_usd_twenty_eight_days_post_lockup\n",
    ")\n",
    "\n",
    "apply_strategy_to_df(\n",
    "    PriceDiscoveryStratergy, rad_usd_twenty_eight_days_post_lockup_df, False\n",
    ")\n",
    "\n",
    "print(rad_usd_twenty_eight_days_post_lockup_df[\"RSI_7\"].mean())\n",
    "rad_usd_twenty_eight_days_post_lockup_df[\"STDEV_7\"].mean()\n"
   ]
  },
  {
   "cell_type": "markdown",
   "metadata": {},
   "source": [
    "As of writing this article, the RSI was found to be 42.43 and the std_dev to be 0.538. The RSI for RAD being less than LDO's in the same timeframe (post-lockup) implies that the price trend was not as strong as LDO's. RAD's price 28 days post-lockup was also less stable that LDO's as indicated by the higher std_dev value."
   ]
  },
  {
   "cell_type": "code",
   "execution_count": 20,
   "metadata": {},
   "outputs": [
    {
     "name": "stdout",
     "output_type": "stream",
     "text": [
      "51.09444274023437\n"
     ]
    },
    {
     "data": {
      "text/plain": [
       "19.35639974550211"
      ]
     },
     "execution_count": 20,
     "metadata": {},
     "output_type": "execute_result"
    }
   ],
   "source": [
    "# Gnosis\n",
    "from libs.daos.local.kraken import get_historical_token_spot_prices\n",
    "\n",
    "gno_usd_twenty_eight_days_post_auction = get_historical_token_spot_prices(\n",
    "    \"./libs/daos/local/data/GNOUSD.csv\", 1493697600, 1496116800\n",
    ")\n",
    "\n",
    "PriceDiscoveryStratergyGNO = ta.Strategy(\n",
    "    name=\"Price Discovery Stratergies\",\n",
    "    description=\"This stratergy applies RSI_3477 and STD_DEV_3477\",\n",
    "    ta=[{\"kind\": \"rsi\", \"length\": 3477}, {\"kind\": \"stdev\", \"length\": 3477}],\n",
    ")\n",
    "\n",
    "apply_strategy_to_df(\n",
    "    PriceDiscoveryStratergyGNO, gno_usd_twenty_eight_days_post_auction, False\n",
    ")\n",
    "\n",
    "print(gno_usd_twenty_eight_days_post_auction[\"RSI_3477\"].mean())\n",
    "gno_usd_twenty_eight_days_post_auction[\"STDEV_3477\"].mean()"
   ]
  },
  {
   "cell_type": "markdown",
   "metadata": {},
   "source": [
    "As of writing this article, the average RSI over 28 days was 51.09 whilst the std_dev was 19.36. Showing that it had the strongest trend so far but the highest in terms of price volatility (please see notes on these observations). In fact, GNO saw a remarkable range of ~\\$35 - ~\\$250 USD within the 28 day period after the auction."
   ]
  },
  {
   "cell_type": "code",
   "execution_count": null,
   "metadata": {},
   "outputs": [],
   "source": [
    "# Tokemak\n",
    "from libs.daos.http.price_data.sushiswap import get_historical_token_spot_prices\n",
    "\n",
    "toke_usd_post_degenesis = get_historical_token_spot_prices(\n",
    "    \"0x2e9d63788249371f1DFC918a52f8d799F4a38C94\", 1627963200, 1630641600\n",
    ")\n",
    "\n",
    "toke_usd_post_degenesis_df = pd.DataFrame(toke_usd_post_degenesis)\n",
    "\n",
    "apply_strategy_to_df(PriceDiscoveryStratergy, toke_usd_post_degenesis_df, False)\n",
    "print(toke_usd_post_degenesis_df[\"RSI_7\"].mean())\n",
    "toke_usd_post_degenesis_df[\"STDEV_7\"].mean()\n"
   ]
  },
  {
   "cell_type": "markdown",
   "metadata": {},
   "source": [
    "Astonishing results. TOKE's RSI was 74.70 on average 28 days post-[DeGenesis](https://medium.com/tokemak/tokemak-the-degenesis-939495d9e2ff), whilst the average std_dev in that period was 4.04. Showing that TOKE's trend was the strongest on average, though not the most stable as a consequence.\n",
    "\n",
    "This is not to say that TOKE comes out as the winner here, since [an RSI above 70 is usually a signal for asset holders to sell](https://www.investopedia.com/terms/r/rsi.asp#:~:text=An%20asset%20is%20usually%20considered%20overbought%20when%20the%20RSI%20is%20above%2070). It should also be noted that as of writing this article, the price of TOKE is a little less than a dollar USD, way below the average price of TOKE 28 days post-DeGenesis, which was \\$30.10 USD.\n",
    "\n",
    "This high volatility in price isn't that much of a surprise considering that the settled price for TOKE was \\$8 USD once the DeGenesis was completed. Token holders who acquired their TOKE likely sold for a profit during this 28 day period."
   ]
  },
  {
   "cell_type": "markdown",
   "metadata": {},
   "source": [
    "## Conclusion\n",
    "\n",
    "Using the afformentioned params, we can create a table that gives an overview of the performance of each DAO's initial funding round:\n",
    "\n",
    "|Project Name|duration|revenue (M USD)|tokens sold (% of supply)|type|TWAP 28 (USD)|RSI 7*|std_dev 7*|\n",
    "|---|---|---|---|---|---|---|---|\n",
    "|Lido|1 day|2.00|22.18|PIPE|3.10|49.79|0.234|\n",
    "|Radicle|3 days|36.77|9.885|PIPE + Public sale|5.05|42.43|0.538|\n",
    "|Gnosis|12 mins|12.50|4.188|Public Auction|164.17|51.09|19.36|\n",
    "|Tokemak|1 week|36.56|4.600|Public Bonding Curve|30.10|74.70|4.04|\n",
    "\n",
    "\\* see the notes on the GNO/USD observations\n",
    "\n",
    "In terms of revenue, the winner here seems to be Radicle, which was able to secure the most revenue in their initial funding round. However, they sold off the highest percentage of tokens in their supply, and ended up with the second weakest price and second weakest relative strength in price post-lockup.\n",
    "\n",
    "Gnosis was able to acquire \\$12.5M USD in funding whilst selling the smallest portion of its total supply out of all of them. Gnosis was also able to achieve the highest 28 day TWAP post-sale of \\$164.17 USD. Even at the time of writing this article, during a bear market, the price of GNO is in the one-hundreds, though it should be noted that Gnosis DAO passed a [proposal](https://forum.gnosis.io/t/should-we-burn-68-of-the-total-gno-supply/3442) to update tokenomics and burn a significant portion of their supply which contributes to this strong price.\n",
    "\n",
    "Tokemak seems to be right in the middle, having secured the second most in terms of funding whilst selling off the second least percentage of their token. There is certainly a discussion to be made about whether the success of the token launch suggested that the settled price for TOKE from DeGenesis (\\$8 USD) was significantly undervalued. This might have caused high volatility in the price. Perhaps the parameters for the DeGenesis was its biggest flaw in this regard, however, its effectiveness in acquiring funding was arguably the best in the study.\n",
    "\n",
    "Perhaps the least successful of this study was Lido, which only acquired \\$2M USD in revenue. They also sold off their largest percentage of their tokens, to private investors as well. There is thus an argument to be made about the level of decentralisation this DAO has when voting on proposals, Lido also recently [sold another allocation of their LDO tokens](https://research.lido.fi/t/treasury-diversification-2/2570) to a private investor recently. This may be a feature rather than a bug, however. One can say that because of these funding rounds Lido DAO was able to acquire their required funding whilst gaining some [invaluable investors](https://www.crunchbase.com/organization/lido-b607/company_financials#:~:text=Paradigm-,Investors,-Edit%20Investors%20Section) which add expertise to these proposals."
   ]
  }
 ],
 "metadata": {
  "kernelspec": {
   "display_name": "Python 3.10.3 (conda)",
   "language": "python",
   "name": "python3"
  },
  "language_info": {
   "codemirror_mode": {
    "name": "ipython",
    "version": 3
   },
   "file_extension": ".py",
   "mimetype": "text/x-python",
   "name": "python",
   "nbconvert_exporter": "python",
   "pygments_lexer": "ipython3",
   "version": "3.10.4"
  },
  "orig_nbformat": 4,
  "vscode": {
   "interpreter": {
    "hash": "548530db86f944aa49d51880891ede885f6f65e80d9668a52a79a849a86c8892"
   }
  }
 },
 "nbformat": 4,
 "nbformat_minor": 2
}
